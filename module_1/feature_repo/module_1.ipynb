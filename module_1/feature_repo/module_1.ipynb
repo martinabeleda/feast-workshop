{
 "cells": [
  {
   "cell_type": "markdown",
   "metadata": {},
   "source": [
    "# Module 1: Serving fresh online features with Feast, Kafka, Redis"
   ]
  },
  {
   "cell_type": "markdown",
   "metadata": {},
   "source": [
    "## 1. Overview\n",
    "In this notebook, we explore why it's valuable to build / register streaming features in Feast for both data scientists and engineers. \n",
    "\n",
    "We then use Spark to build streaming features from events in Kafka and registering them within Feast. We then showcase how Feast combines these streaming features with batch data sources in the online store (Redis). Users can then retrieve features at low latency from Redis through Feast.\n",
    "\n",
    "If you haven't already, look at the [README](../README.md) for setup instructions prior to starting this notebook."
   ]
  },
  {
   "cell_type": "markdown",
   "metadata": {},
   "source": [
    "<img src=\"../architecture.png\" width=\"750\"/>"
   ]
  },
  {
   "cell_type": "markdown",
   "metadata": {},
   "source": [
    "## 2. Setup Spark Structured Streaming to read this Kafka Topic\n",
    "We first read and parse events from Kafka, run some transformations with Spark, and `forEachBatch` push to Feast"
   ]
  },
  {
   "cell_type": "code",
   "execution_count": 6,
   "metadata": {},
   "outputs": [],
   "source": [
    "from pyspark.sql import SparkSession\n",
    "from pyspark.sql.functions import *\n",
    "from pyspark.sql.types import StructType, IntegerType, DoubleType, TimestampType\n",
    "\n",
    "import pandas as pd\n",
    "import os\n",
    "os.environ['PYSPARK_SUBMIT_ARGS'] = \"--packages=org.apache.spark:spark-sql-kafka-0-10_2.12:3.0.0 pyspark-shell\""
   ]
  },
  {
   "cell_type": "code",
   "execution_count": 7,
   "metadata": {},
   "outputs": [
    {
     "name": "stdout",
     "output_type": "stream",
     "text": [
      ":: loading settings :: url = jar:file:/Users/martinabeleda/Development/feast-workshop/.venv/lib/python3.8/site-packages/pyspark/jars/ivy-2.5.0.jar!/org/apache/ivy/core/settings/ivysettings.xml\n"
     ]
    },
    {
     "name": "stderr",
     "output_type": "stream",
     "text": [
      "Ivy Default Cache set to: /Users/martinabeleda/.ivy2/cache\n",
      "The jars for the packages stored in: /Users/martinabeleda/.ivy2/jars\n",
      "org.apache.spark#spark-sql-kafka-0-10_2.12 added as a dependency\n",
      ":: resolving dependencies :: org.apache.spark#spark-submit-parent-88472f3d-1a1a-4943-a7c9-a172601da079;1.0\n",
      "\tconfs: [default]\n",
      "\tfound org.apache.spark#spark-sql-kafka-0-10_2.12;3.0.0 in central\n",
      "\tfound org.apache.spark#spark-token-provider-kafka-0-10_2.12;3.0.0 in central\n",
      "\tfound org.apache.kafka#kafka-clients;2.4.1 in central\n",
      "\tfound com.github.luben#zstd-jni;1.4.4-3 in central\n",
      "\tfound org.lz4#lz4-java;1.7.1 in central\n",
      "\tfound org.xerial.snappy#snappy-java;1.1.7.5 in central\n",
      "\tfound org.slf4j#slf4j-api;1.7.30 in central\n",
      "\tfound org.spark-project.spark#unused;1.0.0 in central\n",
      "\tfound org.apache.commons#commons-pool2;2.6.2 in central\n",
      "downloading https://repo1.maven.org/maven2/org/apache/spark/spark-sql-kafka-0-10_2.12/3.0.0/spark-sql-kafka-0-10_2.12-3.0.0.jar ...\n",
      "\t[SUCCESSFUL ] org.apache.spark#spark-sql-kafka-0-10_2.12;3.0.0!spark-sql-kafka-0-10_2.12.jar (70ms)\n",
      "downloading https://repo1.maven.org/maven2/org/apache/spark/spark-token-provider-kafka-0-10_2.12/3.0.0/spark-token-provider-kafka-0-10_2.12-3.0.0.jar ...\n",
      "\t[SUCCESSFUL ] org.apache.spark#spark-token-provider-kafka-0-10_2.12;3.0.0!spark-token-provider-kafka-0-10_2.12.jar (16ms)\n",
      "downloading https://repo1.maven.org/maven2/org/apache/kafka/kafka-clients/2.4.1/kafka-clients-2.4.1.jar ...\n",
      "\t[SUCCESSFUL ] org.apache.kafka#kafka-clients;2.4.1!kafka-clients.jar (406ms)\n",
      "downloading https://repo1.maven.org/maven2/org/apache/commons/commons-pool2/2.6.2/commons-pool2-2.6.2.jar ...\n",
      "\t[SUCCESSFUL ] org.apache.commons#commons-pool2;2.6.2!commons-pool2.jar (13ms)\n",
      "downloading https://repo1.maven.org/maven2/org/spark-project/spark/unused/1.0.0/unused-1.0.0.jar ...\n",
      "\t[SUCCESSFUL ] org.spark-project.spark#unused;1.0.0!unused.jar (9ms)\n",
      "downloading https://repo1.maven.org/maven2/com/github/luben/zstd-jni/1.4.4-3/zstd-jni-1.4.4-3.jar ...\n",
      "\t[SUCCESSFUL ] com.github.luben#zstd-jni;1.4.4-3!zstd-jni.jar (296ms)\n",
      "downloading https://repo1.maven.org/maven2/org/lz4/lz4-java/1.7.1/lz4-java-1.7.1.jar ...\n",
      "\t[SUCCESSFUL ] org.lz4#lz4-java;1.7.1!lz4-java.jar (34ms)\n",
      "downloading https://repo1.maven.org/maven2/org/xerial/snappy/snappy-java/1.1.7.5/snappy-java-1.1.7.5.jar ...\n",
      "\t[SUCCESSFUL ] org.xerial.snappy#snappy-java;1.1.7.5!snappy-java.jar(bundle) (110ms)\n",
      "downloading https://repo1.maven.org/maven2/org/slf4j/slf4j-api/1.7.30/slf4j-api-1.7.30.jar ...\n",
      "\t[SUCCESSFUL ] org.slf4j#slf4j-api;1.7.30!slf4j-api.jar (9ms)\n",
      ":: resolution report :: resolve 7299ms :: artifacts dl 996ms\n",
      "\t:: modules in use:\n",
      "\tcom.github.luben#zstd-jni;1.4.4-3 from central in [default]\n",
      "\torg.apache.commons#commons-pool2;2.6.2 from central in [default]\n",
      "\torg.apache.kafka#kafka-clients;2.4.1 from central in [default]\n",
      "\torg.apache.spark#spark-sql-kafka-0-10_2.12;3.0.0 from central in [default]\n",
      "\torg.apache.spark#spark-token-provider-kafka-0-10_2.12;3.0.0 from central in [default]\n",
      "\torg.lz4#lz4-java;1.7.1 from central in [default]\n",
      "\torg.slf4j#slf4j-api;1.7.30 from central in [default]\n",
      "\torg.spark-project.spark#unused;1.0.0 from central in [default]\n",
      "\torg.xerial.snappy#snappy-java;1.1.7.5 from central in [default]\n",
      "\t---------------------------------------------------------------------\n",
      "\t|                  |            modules            ||   artifacts   |\n",
      "\t|       conf       | number| search|dwnlded|evicted|| number|dwnlded|\n",
      "\t---------------------------------------------------------------------\n",
      "\t|      default     |   9   |   9   |   9   |   0   ||   9   |   9   |\n",
      "\t---------------------------------------------------------------------\n",
      ":: retrieving :: org.apache.spark#spark-submit-parent-88472f3d-1a1a-4943-a7c9-a172601da079\n",
      "\tconfs: [default]\n",
      "\t9 artifacts copied, 0 already retrieved (10393kB/40ms)\n",
      "22/05/18 15:55:16 WARN NativeCodeLoader: Unable to load native-hadoop library for your platform... using builtin-java classes where applicable\n",
      "Using Spark's default log4j profile: org/apache/spark/log4j-defaults.properties\n",
      "Setting default log level to \"WARN\".\n",
      "To adjust logging level use sc.setLogLevel(newLevel). For SparkR, use setLogLevel(newLevel).\n"
     ]
    }
   ],
   "source": [
    "spark = SparkSession.builder.master(\"local\").appName(\"feast-spark\").getOrCreate()\n",
    "# Reduce partitions since default is 200 which will be slow on a local machine\n",
    "spark.conf.set(\"spark.sql.shuffle.partitions\", 5)\n",
    "\n",
    "schema = (\n",
    "    StructType()\n",
    "        .add('driver_id', IntegerType(), False)\n",
    "        .add('miles_driven', DoubleType(), False)\n",
    "        .add('event_timestamp', TimestampType(), False)\n",
    "        .add('conv_rate', DoubleType(), False)\n",
    "        .add('acc_rate', DoubleType(), False)\n",
    ")\n",
    "\n",
    "# Subscribe to 1 topic, with headers\n",
    "df = (\n",
    "    spark.readStream.format(\"kafka\")\n",
    "    .option(\"kafka.bootstrap.servers\", \"localhost:9092\")\n",
    "    .option(\"subscribe\", \"drivers\")\n",
    "    .option(\"startingOffsets\", \"earliest\")\n",
    "    .load()\n",
    "    .selectExpr('CAST(value AS STRING)')\n",
    "    .select(from_json('value', schema).alias(\"temp\"))\n",
    "    .select(\"temp.*\")\n",
    ")"
   ]
  },
  {
   "cell_type": "markdown",
   "metadata": {},
   "source": [
    "# 3. Setup the feature store"
   ]
  },
  {
   "cell_type": "markdown",
   "metadata": {},
   "source": [
    "### Apply feature repository\n",
    "We first run `feast apply` to register the data sources + features and setup Redis."
   ]
  },
  {
   "cell_type": "code",
   "execution_count": 8,
   "metadata": {},
   "outputs": [
    {
     "name": "stdout",
     "output_type": "stream",
     "text": [
      "Created entity \u001b[1m\u001b[32mdriver\u001b[0m\n",
      "Created feature view \u001b[1m\u001b[32mdriver_hourly_stats\u001b[0m\n",
      "Created feature view \u001b[1m\u001b[32mdriver_daily_features\u001b[0m\n",
      "Created feature service \u001b[1m\u001b[32mmodel_v2\u001b[0m\n",
      "Created feature service \u001b[1m\u001b[32mmodel_v1\u001b[0m\n",
      "\n",
      "Deploying infrastructure for \u001b[1m\u001b[32mdriver_hourly_stats\u001b[0m\n",
      "Deploying infrastructure for \u001b[1m\u001b[32mdriver_daily_features\u001b[0m\n"
     ]
    }
   ],
   "source": [
    "!feast apply"
   ]
  },
  {
   "cell_type": "markdown",
   "metadata": {},
   "source": [
    "Now, we instantiate a Feast `FeatureStore` object to push data to"
   ]
  },
  {
   "cell_type": "code",
   "execution_count": 9,
   "metadata": {},
   "outputs": [],
   "source": [
    "from feast import FeatureStore\n",
    "from datetime import datetime\n",
    "\n",
    "store = FeatureStore(repo_path=\".\")"
   ]
  },
  {
   "cell_type": "markdown",
   "metadata": {},
   "source": [
    "### Fetch training data from offline store\n",
    "Just to verify the features are in the batch sources."
   ]
  },
  {
   "cell_type": "code",
   "execution_count": 10,
   "metadata": {},
   "outputs": [
    {
     "name": "stdout",
     "output_type": "stream",
     "text": [
      "      driver_id                  event_timestamp  conv_rate  acc_rate  \\\n",
      "360        1001        2021-04-12 10:59:42+00:00   0.521149  0.751659   \n",
      "721        1002        2021-04-12 08:12:10+00:00   0.089014  0.212637   \n",
      "1084       1003        2021-04-12 16:40:26+00:00   0.188855  0.344736   \n",
      "1445       1004        2021-04-12 15:01:12+00:00   0.296492  0.935305   \n",
      "1805       1001 2022-05-18 15:56:25.652623+00:00   0.404588  0.407571   \n",
      "\n",
      "      daily_miles_driven  \n",
      "360            18.926695  \n",
      "721            12.005569  \n",
      "1084           23.490234  \n",
      "1445           19.204191  \n",
      "1805          350.650257  \n"
     ]
    }
   ],
   "source": [
    "entity_df = pd.DataFrame.from_dict(\n",
    "    {\n",
    "        \"driver_id\": [1001, 1002, 1003, 1004, 1001],\n",
    "        \"event_timestamp\": [\n",
    "            datetime(2021, 4, 12, 10, 59, 42),\n",
    "            datetime(2021, 4, 12, 8, 12, 10),\n",
    "            datetime(2021, 4, 12, 16, 40, 26),\n",
    "            datetime(2021, 4, 12, 15, 1, 12),\n",
    "            datetime.now()\n",
    "        ]\n",
    "    }\n",
    ")\n",
    "training_df = store.get_historical_features(\n",
    "    entity_df=entity_df,\n",
    "    features=[\n",
    "        \"driver_hourly_stats:conv_rate\",\n",
    "        \"driver_hourly_stats:acc_rate\",\n",
    "        \"driver_daily_features:daily_miles_driven\"\n",
    "    ],\n",
    ").to_df()\n",
    "print(training_df.head())"
   ]
  },
  {
   "cell_type": "markdown",
   "metadata": {},
   "source": [
    "### 4. Materialize batch features & fetch online features from Redis\n",
    "First we materialize features (which generate the latest values for each entity key from batch sources) into the online store (Redis)"
   ]
  },
  {
   "cell_type": "code",
   "execution_count": 11,
   "metadata": {},
   "outputs": [
    {
     "name": "stdout",
     "output_type": "stream",
     "text": [
      "Materializing \u001b[1m\u001b[32m2\u001b[0m feature views to \u001b[1m\u001b[32m2022-05-17 17:00:00-07:00\u001b[0m into the \u001b[1m\u001b[32mredis\u001b[0m online store.\n",
      "\n",
      "\u001b[1m\u001b[32mdriver_hourly_stats\u001b[0m from \u001b[1m\u001b[32m1748-08-02 22:56:28-08:12:28\u001b[0m to \u001b[1m\u001b[32m2022-05-17 17:00:00-07:00\u001b[0m:\n",
      "100%|████████████████████████████████████████████████████████████████| 5/5 [00:00<00:00, 145.16it/s]\n",
      "\u001b[1m\u001b[32mdriver_daily_features\u001b[0m from \u001b[1m\u001b[32m1748-08-02 22:56:28-08:12:28\u001b[0m to \u001b[1m\u001b[32m2022-05-17 17:00:00-07:00\u001b[0m:\n",
      "100%|███████████████████████████████████████████████████████████████| 5/5 [00:00<00:00, 1799.82it/s]\n"
     ]
    }
   ],
   "source": [
    "!feast materialize-incremental $(date +%Y-%m-%d)"
   ]
  },
  {
   "cell_type": "markdown",
   "metadata": {},
   "source": [
    "Feast manages what time intervals have been materialized in the registry. So if you schedule regular materialization every hour, you can run `feast materialize-incremental` and Feast will know that all the previous hours were already processed."
   ]
  },
  {
   "cell_type": "markdown",
   "metadata": {},
   "source": [
    "#### SDK based online retrieval\n",
    "Now we can retrieve these materialized features from Redis by directly using the SDK. This is one of the most popular ways to retrieve features with Feast since it allows you to integrate with an existing service (e.g. a Flask) that also handles model inference or pre/post-processing"
   ]
  },
  {
   "cell_type": "code",
   "execution_count": 12,
   "metadata": {},
   "outputs": [
    {
     "name": "stdout",
     "output_type": "stream",
     "text": [
      "acc_rate  :  [0.4075707495212555]\n",
      "conv_rate  :  [0.4045884609222412]\n",
      "daily_miles_driven  :  [350.6502685546875]\n",
      "driver_id  :  [1001]\n"
     ]
    }
   ],
   "source": [
    "features = store.get_online_features(\n",
    "    features=[\n",
    "        \"driver_hourly_stats:conv_rate\",\n",
    "        \"driver_hourly_stats:acc_rate\",\n",
    "        \"driver_daily_features:daily_miles_driven\",\n",
    "    ],\n",
    "    entity_rows=[\n",
    "        {\n",
    "            \"driver_id\": 1001,\n",
    "        }\n",
    "    ],\n",
    ").to_dict()\n",
    "\n",
    "def print_online_features(features):\n",
    "    for key, value in sorted(features.items()):\n",
    "        print(key, \" : \", value)\n",
    "\n",
    "print_online_features(features)"
   ]
  },
  {
   "cell_type": "markdown",
   "metadata": {},
   "source": [
    "#### HTTP based online retrieval\n",
    "We can also retrieve from a deployed feature server. We had previously deployed this with Docker Compose (see [docker-compose.yml](../docker-compose.yml))\n",
    "\n",
    "This can be preferable for many reasons. If you want to build an in-memory cache, caching on a central feature server can allow more effective caching across teams. You can also more centrally manage rate-limiting / access control, upgrade Feast versions independently, etc."
   ]
  },
  {
   "cell_type": "code",
   "execution_count": 13,
   "metadata": {},
   "outputs": [
    {
     "name": "stdout",
     "output_type": "stream",
     "text": [
      "{\n",
      "    \"metadata\": {\n",
      "        \"feature_names\": [\n",
      "            \"driver_id\",\n",
      "            \"conv_rate\",\n",
      "            \"acc_rate\"\n",
      "        ]\n",
      "    },\n",
      "    \"results\": [\n",
      "        {\n",
      "            \"event_timestamps\": [\n",
      "                \"1970-01-01T00:00:00Z\"\n",
      "            ],\n",
      "            \"statuses\": [\n",
      "                \"PRESENT\"\n",
      "            ],\n",
      "            \"values\": [\n",
      "                1001\n",
      "            ]\n",
      "        },\n",
      "        {\n",
      "            \"event_timestamps\": [\n",
      "                \"2022-03-14T14:00:00Z\"\n",
      "            ],\n",
      "            \"statuses\": [\n",
      "                \"PRESENT\"\n",
      "            ],\n",
      "            \"values\": [\n",
      "                0.4045884609222412\n",
      "            ]\n",
      "        },\n",
      "        {\n",
      "            \"event_timestamps\": [\n",
      "                \"2022-03-14T14:00:00Z\"\n",
      "            ],\n",
      "            \"statuses\": [\n",
      "                \"PRESENT\"\n",
      "            ],\n",
      "            \"values\": [\n",
      "                0.4075707495212555\n",
      "            ]\n",
      "        }\n",
      "    ]\n",
      "}\n"
     ]
    }
   ],
   "source": [
    "import requests\n",
    "import json\n",
    "\n",
    "online_request = {\n",
    "  \"features\": [\n",
    "    \"driver_hourly_stats:conv_rate\",\n",
    "    \"driver_hourly_stats:acc_rate\"\n",
    "  ],\n",
    "  \"entities\": {\n",
    "    \"driver_id\": [1001]\n",
    "  }\n",
    "}\n",
    "r = requests.post('http://localhost:6566/get-online-features', data=json.dumps(online_request))\n",
    "print(json.dumps(r.json(), indent=4, sort_keys=True))"
   ]
  },
  {
   "cell_type": "markdown",
   "metadata": {},
   "source": [
    "## 5. Generating fresher features via stream transformations"
   ]
  },
  {
   "cell_type": "markdown",
   "metadata": {},
   "source": [
    "### 5a. Building streaming features with Kafka + Spark Structured Streaming\n",
    "Now we push streaming features into Feast by ingesting events from Kafka and processing with Spark Structured Streaming.\n",
    "- These features can then be further post-processed and combined with other features or request data in on demand transforms.\n",
    "- An example might be to push in the last 5 transactions, and in on demand transforms generate the average of those transactions.\n",
    "\n",
    "Feast will help manage both batch and streaming sources for you. You can run `feast materialize-incremental` as well as ingest streaming features to the same online store.\n",
    "\n",
    "**Below, what's happening:**\n",
    "- We use Spark to compute a sliding window aggregate feature that computes `daily_miles_driven` using the `miles_driven` column in the event.\n",
    "- Triggers every 30 seconds\n",
    "    - In this case, because we’re just reading from the `driver_stats.parquet`, we could have multiple windows of data coming in. Thus, in this code, we filter for the latest (`driver_id`, `window`) feature\n",
    "    - If you have a larger watermark and can get events across multiple windows, you’ll want to have the latest window too.\n",
    "- Rename `end` to `event_timestamp`, otherwise Feast will throw a validation error since it doesn’t match the schema of the `FeatureView`"
   ]
  },
  {
   "cell_type": "code",
   "execution_count": 14,
   "metadata": {},
   "outputs": [
    {
     "name": "stderr",
     "output_type": "stream",
     "text": [
      "22/05/18 15:56:46 WARN ResolveWriteToStream: spark.sql.adaptive.enabled is not supported in streaming DataFrames/Datasets and will be disabled.\n",
      "22/05/18 16:00:01 WARN NetworkClient: [Consumer clientId=consumer-spark-kafka-source-efeb4659-8191-4fbe-b6df-32a26f24b1d0--2026490881-driver-0-1, groupId=spark-kafka-source-efeb4659-8191-4fbe-b6df-32a26f24b1d0--2026490881-driver-0] Connection to node 1 (localhost/127.0.0.1:9092) could not be established. Broker may not be available.\n",
      "22/05/18 16:00:01 WARN NetworkClient: [Consumer clientId=consumer-spark-kafka-source-efeb4659-8191-4fbe-b6df-32a26f24b1d0--2026490881-driver-0-1, groupId=spark-kafka-source-efeb4659-8191-4fbe-b6df-32a26f24b1d0--2026490881-driver-0] Connection to node 1 (localhost/127.0.0.1:9092) could not be established. Broker may not be available.\n",
      "22/05/18 16:00:01 WARN NetworkClient: [Consumer clientId=consumer-spark-kafka-source-efeb4659-8191-4fbe-b6df-32a26f24b1d0--2026490881-driver-0-1, groupId=spark-kafka-source-efeb4659-8191-4fbe-b6df-32a26f24b1d0--2026490881-driver-0] Connection to node 1 (localhost/127.0.0.1:9092) could not be established. Broker may not be available.\n",
      "22/05/18 16:00:02 WARN NetworkClient: [Consumer clientId=consumer-spark-kafka-source-efeb4659-8191-4fbe-b6df-32a26f24b1d0--2026490881-driver-0-1, groupId=spark-kafka-source-efeb4659-8191-4fbe-b6df-32a26f24b1d0--2026490881-driver-0] Connection to node 1 (localhost/127.0.0.1:9092) could not be established. Broker may not be available.\n",
      "22/05/18 16:00:02 WARN NetworkClient: [Consumer clientId=consumer-spark-kafka-source-efeb4659-8191-4fbe-b6df-32a26f24b1d0--2026490881-driver-0-1, groupId=spark-kafka-source-efeb4659-8191-4fbe-b6df-32a26f24b1d0--2026490881-driver-0] Connection to node 1 (localhost/127.0.0.1:9092) could not be established. Broker may not be available.\n",
      "22/05/18 16:00:04 WARN NetworkClient: [Consumer clientId=consumer-spark-kafka-source-efeb4659-8191-4fbe-b6df-32a26f24b1d0--2026490881-driver-0-1, groupId=spark-kafka-source-efeb4659-8191-4fbe-b6df-32a26f24b1d0--2026490881-driver-0] Connection to node 1 (localhost/127.0.0.1:9092) could not be established. Broker may not be available.\n",
      "22/05/18 16:00:05 WARN NetworkClient: [Consumer clientId=consumer-spark-kafka-source-efeb4659-8191-4fbe-b6df-32a26f24b1d0--2026490881-driver-0-1, groupId=spark-kafka-source-efeb4659-8191-4fbe-b6df-32a26f24b1d0--2026490881-driver-0] Connection to node 1 (localhost/127.0.0.1:9092) could not be established. Broker may not be available.\n",
      "22/05/18 16:00:06 WARN NetworkClient: [Consumer clientId=consumer-spark-kafka-source-efeb4659-8191-4fbe-b6df-32a26f24b1d0--2026490881-driver-0-1, groupId=spark-kafka-source-efeb4659-8191-4fbe-b6df-32a26f24b1d0--2026490881-driver-0] Connection to node 1 (localhost/127.0.0.1:9092) could not be established. Broker may not be available.\n",
      "22/05/18 16:00:07 WARN NetworkClient: [Consumer clientId=consumer-spark-kafka-source-efeb4659-8191-4fbe-b6df-32a26f24b1d0--2026490881-driver-0-1, groupId=spark-kafka-source-efeb4659-8191-4fbe-b6df-32a26f24b1d0--2026490881-driver-0] Connection to node 1 (localhost/127.0.0.1:9092) could not be established. Broker may not be available.\n",
      "22/05/18 16:00:08 WARN NetworkClient: [Consumer clientId=consumer-spark-kafka-source-efeb4659-8191-4fbe-b6df-32a26f24b1d0--2026490881-driver-0-1, groupId=spark-kafka-source-efeb4659-8191-4fbe-b6df-32a26f24b1d0--2026490881-driver-0] Connection to node 1 (localhost/127.0.0.1:9092) could not be established. Broker may not be available.\n",
      "22/05/18 16:00:09 WARN NetworkClient: [Consumer clientId=consumer-spark-kafka-source-efeb4659-8191-4fbe-b6df-32a26f24b1d0--2026490881-driver-0-1, groupId=spark-kafka-source-efeb4659-8191-4fbe-b6df-32a26f24b1d0--2026490881-driver-0] Connection to node 1 (localhost/127.0.0.1:9092) could not be established. Broker may not be available.\n",
      "22/05/18 16:00:10 WARN NetworkClient: [Consumer clientId=consumer-spark-kafka-source-efeb4659-8191-4fbe-b6df-32a26f24b1d0--2026490881-driver-0-1, groupId=spark-kafka-source-efeb4659-8191-4fbe-b6df-32a26f24b1d0--2026490881-driver-0] Connection to node 1 (localhost/127.0.0.1:9092) could not be established. Broker may not be available.\n",
      "22/05/18 16:00:11 WARN NetworkClient: [Consumer clientId=consumer-spark-kafka-source-efeb4659-8191-4fbe-b6df-32a26f24b1d0--2026490881-driver-0-1, groupId=spark-kafka-source-efeb4659-8191-4fbe-b6df-32a26f24b1d0--2026490881-driver-0] Connection to node 1 (localhost/127.0.0.1:9092) could not be established. Broker may not be available.\n",
      "22/05/18 16:00:12 WARN NetworkClient: [Consumer clientId=consumer-spark-kafka-source-efeb4659-8191-4fbe-b6df-32a26f24b1d0--2026490881-driver-0-1, groupId=spark-kafka-source-efeb4659-8191-4fbe-b6df-32a26f24b1d0--2026490881-driver-0] Connection to node 1 (localhost/127.0.0.1:9092) could not be established. Broker may not be available.\n",
      "22/05/18 16:00:13 WARN NetworkClient: [Consumer clientId=consumer-spark-kafka-source-efeb4659-8191-4fbe-b6df-32a26f24b1d0--2026490881-driver-0-1, groupId=spark-kafka-source-efeb4659-8191-4fbe-b6df-32a26f24b1d0--2026490881-driver-0] Connection to node 1 (localhost/127.0.0.1:9092) could not be established. Broker may not be available.\n",
      "22/05/18 16:00:14 WARN NetworkClient: [Consumer clientId=consumer-spark-kafka-source-efeb4659-8191-4fbe-b6df-32a26f24b1d0--2026490881-driver-0-1, groupId=spark-kafka-source-efeb4659-8191-4fbe-b6df-32a26f24b1d0--2026490881-driver-0] Connection to node 1 (localhost/127.0.0.1:9092) could not be established. Broker may not be available.\n",
      "22/05/18 16:00:15 WARN NetworkClient: [Consumer clientId=consumer-spark-kafka-source-efeb4659-8191-4fbe-b6df-32a26f24b1d0--2026490881-driver-0-1, groupId=spark-kafka-source-efeb4659-8191-4fbe-b6df-32a26f24b1d0--2026490881-driver-0] Connection to node 1 (localhost/127.0.0.1:9092) could not be established. Broker may not be available.\n",
      "22/05/18 16:00:16 WARN NetworkClient: [Consumer clientId=consumer-spark-kafka-source-efeb4659-8191-4fbe-b6df-32a26f24b1d0--2026490881-driver-0-1, groupId=spark-kafka-source-efeb4659-8191-4fbe-b6df-32a26f24b1d0--2026490881-driver-0] Connection to node 1 (localhost/127.0.0.1:9092) could not be established. Broker may not be available.\n",
      "22/05/18 16:00:17 WARN NetworkClient: [Consumer clientId=consumer-spark-kafka-source-efeb4659-8191-4fbe-b6df-32a26f24b1d0--2026490881-driver-0-1, groupId=spark-kafka-source-efeb4659-8191-4fbe-b6df-32a26f24b1d0--2026490881-driver-0] Connection to node 1 (localhost/127.0.0.1:9092) could not be established. Broker may not be available.\n",
      "22/05/18 16:00:18 WARN NetworkClient: [Consumer clientId=consumer-spark-kafka-source-efeb4659-8191-4fbe-b6df-32a26f24b1d0--2026490881-driver-0-1, groupId=spark-kafka-source-efeb4659-8191-4fbe-b6df-32a26f24b1d0--2026490881-driver-0] Connection to node 1 (localhost/127.0.0.1:9092) could not be established. Broker may not be available.\n",
      "22/05/18 16:00:19 WARN NetworkClient: [Consumer clientId=consumer-spark-kafka-source-efeb4659-8191-4fbe-b6df-32a26f24b1d0--2026490881-driver-0-1, groupId=spark-kafka-source-efeb4659-8191-4fbe-b6df-32a26f24b1d0--2026490881-driver-0] Connection to node 1 (localhost/127.0.0.1:9092) could not be established. Broker may not be available.\n",
      "22/05/18 16:00:20 WARN NetworkClient: [Consumer clientId=consumer-spark-kafka-source-efeb4659-8191-4fbe-b6df-32a26f24b1d0--2026490881-driver-0-1, groupId=spark-kafka-source-efeb4659-8191-4fbe-b6df-32a26f24b1d0--2026490881-driver-0] Connection to node 1 (localhost/127.0.0.1:9092) could not be established. Broker may not be available.\n",
      "22/05/18 16:00:21 WARN NetworkClient: [Consumer clientId=consumer-spark-kafka-source-efeb4659-8191-4fbe-b6df-32a26f24b1d0--2026490881-driver-0-1, groupId=spark-kafka-source-efeb4659-8191-4fbe-b6df-32a26f24b1d0--2026490881-driver-0] Connection to node 1 (localhost/127.0.0.1:9092) could not be established. Broker may not be available.\n",
      "22/05/18 16:00:22 WARN NetworkClient: [Consumer clientId=consumer-spark-kafka-source-efeb4659-8191-4fbe-b6df-32a26f24b1d0--2026490881-driver-0-1, groupId=spark-kafka-source-efeb4659-8191-4fbe-b6df-32a26f24b1d0--2026490881-driver-0] Connection to node 1 (localhost/127.0.0.1:9092) could not be established. Broker may not be available.\n",
      "22/05/18 16:00:23 WARN NetworkClient: [Consumer clientId=consumer-spark-kafka-source-efeb4659-8191-4fbe-b6df-32a26f24b1d0--2026490881-driver-0-1, groupId=spark-kafka-source-efeb4659-8191-4fbe-b6df-32a26f24b1d0--2026490881-driver-0] Connection to node 1 (localhost/127.0.0.1:9092) could not be established. Broker may not be available.\n",
      "22/05/18 16:00:24 WARN NetworkClient: [Consumer clientId=consumer-spark-kafka-source-efeb4659-8191-4fbe-b6df-32a26f24b1d0--2026490881-driver-0-1, groupId=spark-kafka-source-efeb4659-8191-4fbe-b6df-32a26f24b1d0--2026490881-driver-0] Connection to node 1 (localhost/127.0.0.1:9092) could not be established. Broker may not be available.\n",
      "22/05/18 16:00:25 WARN NetworkClient: [Consumer clientId=consumer-spark-kafka-source-efeb4659-8191-4fbe-b6df-32a26f24b1d0--2026490881-driver-0-1, groupId=spark-kafka-source-efeb4659-8191-4fbe-b6df-32a26f24b1d0--2026490881-driver-0] Connection to node 1 (localhost/127.0.0.1:9092) could not be established. Broker may not be available.\n",
      "22/05/18 16:00:26 WARN NetworkClient: [Consumer clientId=consumer-spark-kafka-source-efeb4659-8191-4fbe-b6df-32a26f24b1d0--2026490881-driver-0-1, groupId=spark-kafka-source-efeb4659-8191-4fbe-b6df-32a26f24b1d0--2026490881-driver-0] Connection to node 1 (localhost/127.0.0.1:9092) could not be established. Broker may not be available.\n",
      "22/05/18 16:00:27 WARN NetworkClient: [Consumer clientId=consumer-spark-kafka-source-efeb4659-8191-4fbe-b6df-32a26f24b1d0--2026490881-driver-0-1, groupId=spark-kafka-source-efeb4659-8191-4fbe-b6df-32a26f24b1d0--2026490881-driver-0] Connection to node 1 (localhost/127.0.0.1:9092) could not be established. Broker may not be available.\n",
      "22/05/18 16:00:28 WARN NetworkClient: [Consumer clientId=consumer-spark-kafka-source-efeb4659-8191-4fbe-b6df-32a26f24b1d0--2026490881-driver-0-1, groupId=spark-kafka-source-efeb4659-8191-4fbe-b6df-32a26f24b1d0--2026490881-driver-0] Connection to node 1 (localhost/127.0.0.1:9092) could not be established. Broker may not be available.\n",
      "22/05/18 16:00:29 WARN NetworkClient: [Consumer clientId=consumer-spark-kafka-source-efeb4659-8191-4fbe-b6df-32a26f24b1d0--2026490881-driver-0-1, groupId=spark-kafka-source-efeb4659-8191-4fbe-b6df-32a26f24b1d0--2026490881-driver-0] Connection to node 1 (localhost/127.0.0.1:9092) could not be established. Broker may not be available.\n",
      "22/05/18 16:00:30 WARN NetworkClient: [Consumer clientId=consumer-spark-kafka-source-efeb4659-8191-4fbe-b6df-32a26f24b1d0--2026490881-driver-0-1, groupId=spark-kafka-source-efeb4659-8191-4fbe-b6df-32a26f24b1d0--2026490881-driver-0] Connection to node 1 (localhost/127.0.0.1:9092) could not be established. Broker may not be available.\n",
      "22/05/18 16:00:31 WARN NetworkClient: [Consumer clientId=consumer-spark-kafka-source-efeb4659-8191-4fbe-b6df-32a26f24b1d0--2026490881-driver-0-1, groupId=spark-kafka-source-efeb4659-8191-4fbe-b6df-32a26f24b1d0--2026490881-driver-0] Connection to node 1 (localhost/127.0.0.1:9092) could not be established. Broker may not be available.\n",
      "22/05/18 16:00:32 WARN NetworkClient: [Consumer clientId=consumer-spark-kafka-source-efeb4659-8191-4fbe-b6df-32a26f24b1d0--2026490881-driver-0-1, groupId=spark-kafka-source-efeb4659-8191-4fbe-b6df-32a26f24b1d0--2026490881-driver-0] Connection to node 1 (localhost/127.0.0.1:9092) could not be established. Broker may not be available.\n",
      "22/05/18 16:00:33 WARN NetworkClient: [Consumer clientId=consumer-spark-kafka-source-efeb4659-8191-4fbe-b6df-32a26f24b1d0--2026490881-driver-0-1, groupId=spark-kafka-source-efeb4659-8191-4fbe-b6df-32a26f24b1d0--2026490881-driver-0] Connection to node 1 (localhost/127.0.0.1:9092) could not be established. Broker may not be available.\n",
      "22/05/18 16:00:35 WARN NetworkClient: [Consumer clientId=consumer-spark-kafka-source-efeb4659-8191-4fbe-b6df-32a26f24b1d0--2026490881-driver-0-1, groupId=spark-kafka-source-efeb4659-8191-4fbe-b6df-32a26f24b1d0--2026490881-driver-0] Connection to node 1 (localhost/127.0.0.1:9092) could not be established. Broker may not be available.\n",
      "22/05/18 16:00:36 WARN NetworkClient: [Consumer clientId=consumer-spark-kafka-source-efeb4659-8191-4fbe-b6df-32a26f24b1d0--2026490881-driver-0-1, groupId=spark-kafka-source-efeb4659-8191-4fbe-b6df-32a26f24b1d0--2026490881-driver-0] Connection to node 1 (localhost/127.0.0.1:9092) could not be established. Broker may not be available.\n",
      "22/05/18 16:00:37 WARN NetworkClient: [Consumer clientId=consumer-spark-kafka-source-efeb4659-8191-4fbe-b6df-32a26f24b1d0--2026490881-driver-0-1, groupId=spark-kafka-source-efeb4659-8191-4fbe-b6df-32a26f24b1d0--2026490881-driver-0] Connection to node 1 (localhost/127.0.0.1:9092) could not be established. Broker may not be available.\n",
      "22/05/18 16:00:38 WARN NetworkClient: [Consumer clientId=consumer-spark-kafka-source-efeb4659-8191-4fbe-b6df-32a26f24b1d0--2026490881-driver-0-1, groupId=spark-kafka-source-efeb4659-8191-4fbe-b6df-32a26f24b1d0--2026490881-driver-0] Connection to node 1 (localhost/127.0.0.1:9092) could not be established. Broker may not be available.\n",
      "22/05/18 16:00:39 WARN NetworkClient: [Consumer clientId=consumer-spark-kafka-source-efeb4659-8191-4fbe-b6df-32a26f24b1d0--2026490881-driver-0-1, groupId=spark-kafka-source-efeb4659-8191-4fbe-b6df-32a26f24b1d0--2026490881-driver-0] Connection to node 1 (localhost/127.0.0.1:9092) could not be established. Broker may not be available.\n",
      "22/05/18 16:00:41 WARN NetworkClient: [Consumer clientId=consumer-spark-kafka-source-efeb4659-8191-4fbe-b6df-32a26f24b1d0--2026490881-driver-0-1, groupId=spark-kafka-source-efeb4659-8191-4fbe-b6df-32a26f24b1d0--2026490881-driver-0] Connection to node 1 (localhost/127.0.0.1:9092) could not be established. Broker may not be available.\n",
      "22/05/18 16:00:42 WARN NetworkClient: [Consumer clientId=consumer-spark-kafka-source-efeb4659-8191-4fbe-b6df-32a26f24b1d0--2026490881-driver-0-1, groupId=spark-kafka-source-efeb4659-8191-4fbe-b6df-32a26f24b1d0--2026490881-driver-0] Connection to node 1 (localhost/127.0.0.1:9092) could not be established. Broker may not be available.\n",
      "22/05/18 16:00:43 WARN NetworkClient: [Consumer clientId=consumer-spark-kafka-source-efeb4659-8191-4fbe-b6df-32a26f24b1d0--2026490881-driver-0-1, groupId=spark-kafka-source-efeb4659-8191-4fbe-b6df-32a26f24b1d0--2026490881-driver-0] Connection to node 1 (localhost/127.0.0.1:9092) could not be established. Broker may not be available.\n",
      "22/05/18 16:00:44 WARN NetworkClient: [Consumer clientId=consumer-spark-kafka-source-efeb4659-8191-4fbe-b6df-32a26f24b1d0--2026490881-driver-0-1, groupId=spark-kafka-source-efeb4659-8191-4fbe-b6df-32a26f24b1d0--2026490881-driver-0] Connection to node 1 (localhost/127.0.0.1:9092) could not be established. Broker may not be available.\n",
      "22/05/18 16:00:45 WARN NetworkClient: [Consumer clientId=consumer-spark-kafka-source-efeb4659-8191-4fbe-b6df-32a26f24b1d0--2026490881-driver-0-1, groupId=spark-kafka-source-efeb4659-8191-4fbe-b6df-32a26f24b1d0--2026490881-driver-0] Connection to node 1 (localhost/127.0.0.1:9092) could not be established. Broker may not be available.\n",
      "22/05/18 16:00:46 WARN NetworkClient: [Consumer clientId=consumer-spark-kafka-source-efeb4659-8191-4fbe-b6df-32a26f24b1d0--2026490881-driver-0-1, groupId=spark-kafka-source-efeb4659-8191-4fbe-b6df-32a26f24b1d0--2026490881-driver-0] Connection to node 1 (localhost/127.0.0.1:9092) could not be established. Broker may not be available.\n",
      "22/05/18 16:00:47 WARN NetworkClient: [Consumer clientId=consumer-spark-kafka-source-efeb4659-8191-4fbe-b6df-32a26f24b1d0--2026490881-driver-0-1, groupId=spark-kafka-source-efeb4659-8191-4fbe-b6df-32a26f24b1d0--2026490881-driver-0] Connection to node 1 (localhost/127.0.0.1:9092) could not be established. Broker may not be available.\n",
      "22/05/18 16:00:48 WARN NetworkClient: [Consumer clientId=consumer-spark-kafka-source-efeb4659-8191-4fbe-b6df-32a26f24b1d0--2026490881-driver-0-1, groupId=spark-kafka-source-efeb4659-8191-4fbe-b6df-32a26f24b1d0--2026490881-driver-0] Connection to node 1 (localhost/127.0.0.1:9092) could not be established. Broker may not be available.\n",
      "22/05/18 16:00:49 WARN NetworkClient: [Consumer clientId=consumer-spark-kafka-source-efeb4659-8191-4fbe-b6df-32a26f24b1d0--2026490881-driver-0-1, groupId=spark-kafka-source-efeb4659-8191-4fbe-b6df-32a26f24b1d0--2026490881-driver-0] Connection to node 1 (localhost/127.0.0.1:9092) could not be established. Broker may not be available.\n",
      "22/05/18 16:00:50 WARN NetworkClient: [Consumer clientId=consumer-spark-kafka-source-efeb4659-8191-4fbe-b6df-32a26f24b1d0--2026490881-driver-0-1, groupId=spark-kafka-source-efeb4659-8191-4fbe-b6df-32a26f24b1d0--2026490881-driver-0] Connection to node 1 (localhost/127.0.0.1:9092) could not be established. Broker may not be available.\n",
      "22/05/18 16:00:51 WARN NetworkClient: [Consumer clientId=consumer-spark-kafka-source-efeb4659-8191-4fbe-b6df-32a26f24b1d0--2026490881-driver-0-1, groupId=spark-kafka-source-efeb4659-8191-4fbe-b6df-32a26f24b1d0--2026490881-driver-0] Connection to node 1 (localhost/127.0.0.1:9092) could not be established. Broker may not be available.\n",
      "22/05/18 16:00:52 WARN NetworkClient: [Consumer clientId=consumer-spark-kafka-source-efeb4659-8191-4fbe-b6df-32a26f24b1d0--2026490881-driver-0-1, groupId=spark-kafka-source-efeb4659-8191-4fbe-b6df-32a26f24b1d0--2026490881-driver-0] Connection to node 1 (localhost/127.0.0.1:9092) could not be established. Broker may not be available.\n",
      "22/05/18 16:00:53 WARN NetworkClient: [Consumer clientId=consumer-spark-kafka-source-efeb4659-8191-4fbe-b6df-32a26f24b1d0--2026490881-driver-0-1, groupId=spark-kafka-source-efeb4659-8191-4fbe-b6df-32a26f24b1d0--2026490881-driver-0] Connection to node 1 (localhost/127.0.0.1:9092) could not be established. Broker may not be available.\n",
      "22/05/18 16:00:54 WARN NetworkClient: [Consumer clientId=consumer-spark-kafka-source-efeb4659-8191-4fbe-b6df-32a26f24b1d0--2026490881-driver-0-1, groupId=spark-kafka-source-efeb4659-8191-4fbe-b6df-32a26f24b1d0--2026490881-driver-0] Connection to node 1 (localhost/127.0.0.1:9092) could not be established. Broker may not be available.\n",
      "22/05/18 16:00:55 WARN NetworkClient: [Consumer clientId=consumer-spark-kafka-source-efeb4659-8191-4fbe-b6df-32a26f24b1d0--2026490881-driver-0-1, groupId=spark-kafka-source-efeb4659-8191-4fbe-b6df-32a26f24b1d0--2026490881-driver-0] Connection to node 1 (localhost/127.0.0.1:9092) could not be established. Broker may not be available.\n",
      "22/05/18 16:00:56 WARN NetworkClient: [Consumer clientId=consumer-spark-kafka-source-efeb4659-8191-4fbe-b6df-32a26f24b1d0--2026490881-driver-0-1, groupId=spark-kafka-source-efeb4659-8191-4fbe-b6df-32a26f24b1d0--2026490881-driver-0] Connection to node 1 (localhost/127.0.0.1:9092) could not be established. Broker may not be available.\n",
      "22/05/18 16:00:58 WARN NetworkClient: [Consumer clientId=consumer-spark-kafka-source-efeb4659-8191-4fbe-b6df-32a26f24b1d0--2026490881-driver-0-1, groupId=spark-kafka-source-efeb4659-8191-4fbe-b6df-32a26f24b1d0--2026490881-driver-0] Connection to node 1 (localhost/127.0.0.1:9092) could not be established. Broker may not be available.\n"
     ]
    }
   ],
   "source": [
    "def send_to_feast(df, epoch):\n",
    "    pandas_df: pd.DataFrame = df.toPandas()\n",
    "    if pandas_df.empty:\n",
    "        return\n",
    "    \n",
    "    if \"end\" in pandas_df:\n",
    "        print(\"processing window\")\n",
    "        # Filter out only for the latest window for the driver id\n",
    "        pandas_df = pandas_df.sort_values(by=[\"driver_id\",\"end\"], ascending=False).groupby(\"driver_id\").nth(-1)\n",
    "        pandas_df = pandas_df.rename(columns = {\"end\": \"event_timestamp\"})\n",
    "        pandas_df['created'] = pd.to_datetime('now', utc=True)\n",
    "        store.push(\"driver_stats_push_source\", pandas_df)\n",
    "    pandas_df.sort_values(by=\"driver_id\", inplace=True)\n",
    "    print(pandas_df.head(20))\n",
    "    print(f\"Num rows: {len(pandas_df.index)}\")\n",
    "\n",
    "daily_miles_driven = (\n",
    "    df.withWatermark(\"event_timestamp\", \"1 second\") \n",
    "        .groupBy(\"driver_id\", window(timeColumn=\"event_timestamp\", windowDuration=\"1 day\", slideDuration=\"1 hour\"))\n",
    "        .agg(sum(\"miles_driven\").alias(\"daily_miles_driven\"))\n",
    "        .select(\"driver_id\", \"window.end\", \"daily_miles_driven\")\n",
    ")\n",
    "\n",
    "query_1 = daily_miles_driven \\\n",
    "    .writeStream \\\n",
    "    .outputMode(\"update\") \\\n",
    "    .option(\"checkpointLocation\", \"/tmp/feast-workshop/q1/\") \\\n",
    "    .trigger(processingTime=\"30 seconds\") \\\n",
    "    .foreachBatch(send_to_feast) \\\n",
    "    .start()\n",
    "\n",
    "query_1.awaitTermination(timeout=30)\n",
    "query_1.stop()"
   ]
  },
  {
   "cell_type": "markdown",
   "metadata": {},
   "source": [
    "#### 5b. Verify fresh features\n",
    "Now we can verify that the `daily_miles_driven` feature has indeed changed from the original materialized features."
   ]
  },
  {
   "cell_type": "code",
   "execution_count": null,
   "metadata": {},
   "outputs": [
    {
     "name": "stdout",
     "output_type": "stream",
     "text": [
      "acc_rate  :  [0.4075707495212555]\n",
      "conv_rate  :  [0.4045884609222412]\n",
      "daily_miles_driven  :  [631.9012451171875]\n",
      "driver_id  :  [1001]\n"
     ]
    }
   ],
   "source": [
    "features = store.get_online_features(\n",
    "    features=[\n",
    "        \"driver_hourly_stats:conv_rate\",\n",
    "        \"driver_hourly_stats:acc_rate\",\n",
    "        \"driver_daily_features:daily_miles_driven\",\n",
    "    ],\n",
    "    entity_rows=[\n",
    "        {\n",
    "            \"driver_id\": 1001,\n",
    "        }\n",
    "    ],\n",
    ").to_dict()\n",
    "print_online_features(features)"
   ]
  },
  {
   "cell_type": "markdown",
   "metadata": {},
   "source": [
    "#### 5c (optional): Push features through the push server\n",
    "We could also have pushed features without a `FeatureStore` object (and hence the Spark jobs don't need a `feature_store.yaml`) and instead through an HTTP request to the push server (`requests.post(\"http://localhost:6567/push\", data=json.dumps(push_data))`) \n",
    "\n",
    "We already deployed a push server with Docker Compose at port 6567. Separating writes (pushes) from reads (feature serving) can be helpful for independent scaling + resource isolation."
   ]
  },
  {
   "cell_type": "code",
   "execution_count": 14,
   "metadata": {},
   "outputs": [
    {
     "name": "stderr",
     "output_type": "stream",
     "text": [
      "22/05/18 12:23:06 WARN ResolveWriteToStream: spark.sql.adaptive.enabled is not supported in streaming DataFrames/Datasets and will be disabled.\n",
      "22/05/18 12:23:06 WARN StreamingQueryManager: Stopping existing streaming query [id=c1245bc6-365d-4770-9172-1fb403ccb4f6, runId=61ed0b3f-2948-4170-8187-5ffd4e577502], as a new run is being started.\n",
      "22/05/18 12:23:10 WARN HDFSBackedStateStoreProvider: The state for version 2 doesn't exist in loadedMaps. Reading snapshot file and delta files if needed...Note that this is normal for the first batch of starting query.\n",
      "22/05/18 12:23:10 WARN HDFSBackedStateStoreProvider: The state for version 2 doesn't exist in loadedMaps. Reading snapshot file and delta files if needed...Note that this is normal for the first batch of starting query.\n",
      "22/05/18 12:23:10 WARN HDFSBackedStateStoreProvider: The state for version 2 doesn't exist in loadedMaps. Reading snapshot file and delta files if needed...Note that this is normal for the first batch of starting query.\n",
      "22/05/18 12:23:10 WARN HDFSBackedStateStoreProvider: The state for version 2 doesn't exist in loadedMaps. Reading snapshot file and delta files if needed...Note that this is normal for the first batch of starting query.\n",
      "22/05/18 12:23:10 WARN HDFSBackedStateStoreProvider: The state for version 2 doesn't exist in loadedMaps. Reading snapshot file and delta files if needed...Note that this is normal for the first batch of starting query.\n"
     ]
    },
    {
     "name": "stdout",
     "output_type": "stream",
     "text": [
      "processing window\n",
      "   driver_id      event_timestamp  daily_miles_driven  \\\n",
      "0       1001  2023-03-08 13:00:00          596.305352   \n",
      "1       1002  2023-03-08 14:00:00          644.051849   \n",
      "2       1003  2023-03-08 14:00:00          547.179926   \n",
      "3       1004  2023-03-08 14:00:00          695.276622   \n",
      "4       1005  2023-03-08 14:00:00          640.746719   \n",
      "\n",
      "                            created  \n",
      "0  2022-05-18 16:23:10.699456+00:00  \n",
      "1  2022-05-18 16:23:10.699456+00:00  \n",
      "2  2022-05-18 16:23:10.699456+00:00  \n",
      "3  2022-05-18 16:23:10.699456+00:00  \n",
      "4  2022-05-18 16:23:10.699456+00:00  \n",
      "Num rows: 5\n"
     ]
    }
   ],
   "source": [
    "import requests\n",
    "import json\n",
    "\n",
    "def send_to_feast(df, epoch):\n",
    "    pandas_df: pd.DataFrame = df.toPandas()\n",
    "    if pandas_df.empty:\n",
    "        return\n",
    "    \n",
    "    if \"end\" in pandas_df:\n",
    "        print(\"processing window\")\n",
    "        # Filter out only for the latest window for the driver id\n",
    "        pandas_df = pandas_df.sort_values(by=[\"driver_id\",\"end\"], ascending=False).groupby(\"driver_id\").nth(-1)\n",
    "        pandas_df = pandas_df.rename(columns = {\"end\": \"event_timestamp\"})\n",
    "        pandas_df['created'] = pd.to_datetime('now', utc=True)\n",
    "        pandas_df.reset_index(inplace=True)\n",
    "\n",
    "        # Push the event via HTTP (we need to map timestamps to strings since timestamps aren't serializable)\n",
    "        pandas_df['created'] = pandas_df['created'].astype(str)\n",
    "        pandas_df['event_timestamp'] = pandas_df['event_timestamp'].astype(str)\n",
    "        pandas_dict = pandas_df.to_dict(orient=\"list\")\n",
    "        push_data = {\n",
    "            \"push_source_name\":\"driver_stats_push_source\",\n",
    "            \"df\":pandas_dict\n",
    "        }\n",
    "        requests.post(\"http://localhost:6567/push\", data=json.dumps(push_data))\n",
    "    pandas_df.sort_values(by=\"driver_id\", inplace=True)\n",
    "    print(pandas_df.head(20))\n",
    "    print(f\"Num rows: {len(pandas_df.index)}\")\n",
    "\n",
    "query_2 = daily_miles_driven \\\n",
    "    .writeStream \\\n",
    "    .outputMode(\"update\") \\\n",
    "    .option(\"checkpointLocation\", \"/tmp/feast-workshop/q2/\") \\\n",
    "    .trigger(processingTime=\"30 seconds\") \\\n",
    "    .foreachBatch(send_to_feast) \\\n",
    "    .start()\n",
    "\n",
    "query_2.awaitTermination(timeout=20)\n",
    "query_2.stop()"
   ]
  },
  {
   "cell_type": "markdown",
   "metadata": {},
   "source": [
    "Now we can verify yet again that features are more fresh"
   ]
  },
  {
   "cell_type": "code",
   "execution_count": 15,
   "metadata": {},
   "outputs": [
    {
     "name": "stdout",
     "output_type": "stream",
     "text": [
      "acc_rate  :  [0.4075707495212555]\n",
      "conv_rate  :  [0.4045884609222412]\n",
      "daily_miles_driven  :  [596.3053588867188]\n",
      "driver_id  :  [1001]\n"
     ]
    }
   ],
   "source": [
    "features = store.get_online_features(\n",
    "    features=[\n",
    "        \"driver_hourly_stats:conv_rate\",\n",
    "        \"driver_hourly_stats:acc_rate\",\n",
    "        \"driver_daily_features:daily_miles_driven\",\n",
    "    ],\n",
    "    entity_rows=[\n",
    "        {\n",
    "            \"driver_id\": 1001,\n",
    "        }\n",
    "    ],\n",
    ").to_dict()\n",
    "print_online_features(features)"
   ]
  },
  {
   "cell_type": "markdown",
   "metadata": {},
   "source": [
    "### Cleanup\n",
    "Finally, let's clean up the checkpoint directories from Spark"
   ]
  },
  {
   "cell_type": "code",
   "execution_count": 16,
   "metadata": {},
   "outputs": [],
   "source": [
    "import shutil\n",
    "\n",
    "dir_path = '/tmp/feast-workshop/'\n",
    "\n",
    "try:\n",
    "    shutil.rmtree(dir_path)\n",
    "except OSError as e:\n",
    "    print(\"Error: %s : %s\" % (dir_path, e.strerror))"
   ]
  }
 ],
 "metadata": {
  "interpreter": {
   "hash": "7d634b9af180bcb32a446a43848522733ff8f5bbf0cc46dba1a83bede04bf237"
  },
  "kernelspec": {
   "display_name": "Python 3.8.10 64-bit ('python-3.8')",
   "language": "python",
   "name": "python3"
  },
  "language_info": {
   "codemirror_mode": {
    "name": "ipython",
    "version": 3
   },
   "file_extension": ".py",
   "mimetype": "text/x-python",
   "name": "python",
   "nbconvert_exporter": "python",
   "pygments_lexer": "ipython3",
   "version": "3.8.9"
  },
  "orig_nbformat": 4
 },
 "nbformat": 4,
 "nbformat_minor": 2
}
